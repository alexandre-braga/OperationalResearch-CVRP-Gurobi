{
  "cells": [
    {
      "cell_type": "markdown",
      "metadata": {
        "id": "view-in-github",
        "colab_type": "text"
      },
      "source": [
        "<a href=\"https://colab.research.google.com/github/alexandre-braga/OperationalResearch-CVRP-Gurobi/blob/main/Vers%C3%A3o_Final_Trabalho_PO_CVRP.ipynb\" target=\"_parent\"><img src=\"https://colab.research.google.com/assets/colab-badge.svg\" alt=\"Open In Colab\"/></a>"
      ]
    },
    {
      "cell_type": "markdown",
      "metadata": {
        "id": "6PtG_b7L9MMc"
      },
      "source": [
        "Site de onde as Instâncias foram retiradas:\n",
        "\n",
        "http://vrp.galgos.inf.puc-rio.br/index.php/en/plotted-instances?data=E-n22-k4"
      ]
    },
    {
      "cell_type": "markdown",
      "metadata": {
        "id": "lNARvFmW9EJs"
      },
      "source": [
        "Algumas Instâncias testadas:\n",
        "\n",
        "http://vrp.galgos.inf.puc-rio.br/media/com_vrp/instances//E/E-n22-k4.vrp\n",
        "\n",
        "http://vrp.galgos.inf.puc-rio.br/media/com_vrp/instances//E/E-n23-k3.vrp"
      ]
    },
    {
      "cell_type": "markdown",
      "source": [
        "Outras referências:\n",
        "\n",
        "https://medium.com/jdsc-tech-blog/capacitated-vehicle-routing-problem-cvrp-with-python-pulp-and-google-maps-api-5a42dbb594c0\n",
        "\n",
        "http://www.opl.ufc.br/post/tsp/"
      ],
      "metadata": {
        "id": "z_DOIgl6F9Fk"
      }
    },
    {
      "cell_type": "markdown",
      "metadata": {
        "id": "Bs3pbeIaxJMB"
      },
      "source": [
        "Possíveis soluções para eliminar Subciclos:\n",
        "\n",
        "https://how-to.aimms.com/Articles/332/332-Explicit-Dantzig-Fulkerson-Johnson-formulation.html\\\n",
        "\n",
        "https://how-to.aimms.com/Articles/332/332-Miller-Tucker-Zemlin-formulation.html"
      ]
    },
    {
      "cell_type": "markdown",
      "metadata": {
        "id": "4M4ctBBk9np1"
      },
      "source": [
        "\n",
        "#Analisando os Dados do Problema"
      ]
    },
    {
      "cell_type": "markdown",
      "metadata": {
        "id": "YnuN6ycB9peI"
      },
      "source": [
        "Primeiramente temos os seguintes atributos nos arquivos:\n",
        "\n",
        "* **Min no of trucks**: Nº mínimo de veículos para solucionar o problema\n",
        "* **Dimension**: Nº de nós (clientes + depósito)\n",
        "* **Capacity**: Capacidade máxima dos veículos\n",
        "* **Node_Coord_Section**: ID do nó atrelado à suas coordenadas\n",
        "* **Demand_Section**: ID do nó atrelado à sua demanda\n",
        "* **Depot_Section**: Informações do depósito\n",
        "\n",
        "Para facilitar na modelagem do problema, adotaremos o nó depósito de $ID = 1$ como nó de $ID = 0$ e os nós clientes seguintes terão seu valor $original - 1$\n",
        "________________________\n"
      ]
    },
    {
      "cell_type": "markdown",
      "metadata": {
        "id": "Tnxo6TWAElKy"
      },
      "source": [
        "Podemos então denominar:\n",
        "\n",
        "**Veículos**: $k \\in U_+= \\{1,...,p\\}$\n",
        "\n",
        "**Nós**: $V= \\{0,...,n\\}$\n",
        "\n",
        "**Clientes**: $i \\in V_+= \\{1,...,n\\}$\n",
        "\n",
        "**Depósito**: $i \\in \\{0\\}$\n",
        "\n",
        "**Demandas**: $d_i$ de cada cliente $i \\in V_+= \\{1,...,n\\}$\n",
        "\n",
        "**Capacidade dos veículos por viagem**: $C \\leq C_{max}$, com $ C= ∑d_j $, com $j \\in V_+= \\{1,...,n\\}$ representando os clientes escolhidos em uma rota de um veículo k\n",
        "\n",
        "**Objetivo**: Determinar o conjunto de rotas $S$, uma rota para cada veículo $k$, que inicia e termina no depósito. De tal maneira que todos os clientes sejam atentidos e o custo global do transporte minimizado. No caso escolihido, o custo do transporte se dará considerando as distâncias entre cada nó.\n",
        "\n",
        "______________________\n"
      ]
    },
    {
      "cell_type": "markdown",
      "metadata": {
        "id": "IMKfmklh6BsT"
      },
      "source": [
        "#**Código**"
      ]
    },
    {
      "cell_type": "markdown",
      "source": [
        "##**Imports e Inialização do Modelo**"
      ],
      "metadata": {
        "id": "eF2gHuMKQ6Ky"
      }
    },
    {
      "cell_type": "markdown",
      "metadata": {
        "id": "BbjIXpMd6KBw"
      },
      "source": [
        "###**Imports Relativos às Instâncias**"
      ]
    },
    {
      "cell_type": "code",
      "execution_count": null,
      "metadata": {
        "colab": {
          "base_uri": "https://localhost:8080/"
        },
        "id": "onwJyFom6DDI",
        "outputId": "1d101e55-c57d-4d46-f58d-f2b162847d07"
      },
      "outputs": [
        {
          "output_type": "stream",
          "name": "stdout",
          "text": [
            "Mounted at /content/drive\n"
          ]
        }
      ],
      "source": [
        "from google.colab import drive\n",
        "import pandas as pd\n",
        "\n",
        "drive.mount('/content/drive')"
      ]
    },
    {
      "cell_type": "code",
      "execution_count": null,
      "metadata": {
        "id": "80uqxBex6-wJ"
      },
      "outputs": [],
      "source": [
        "###Instância pequena da database###\n",
        "\n",
        "instancia = pd.read_csv('/content/drive/MyDrive/Colab Notebooks/Pesquisa Operacional/CSVs/E-n22-k4.csv', index_col='ID', skiprows=4)\n",
        "header = pd.read_csv('/content/drive/MyDrive/Colab Notebooks/Pesquisa Operacional/CSVs/E-n22-k4.csv', nrows=4, header=None)\n",
        "header_info = header.head()\n",
        "\n",
        "\n",
        "\n",
        "###Instância pequena 2 da database###\n",
        "\n",
        "# instancia = pd.read_csv('/content/drive/MyDrive/Colab Notebooks/Pesquisa Operacional/CSVs/E-n23-k3.csv', index_col='ID', skiprows=4)\n",
        "# header = pd.read_csv('/content/drive/MyDrive/Colab Notebooks/Pesquisa Operacional/CSVs/E-n23-k3.csv', nrows=4, header=None)\n",
        "# header_info = header.head()\n",
        "\n",
        "\n",
        "\n",
        "\n",
        "###Instância grande da database###\n",
        "\n",
        "# instancia = pd.read_csv('/content/drive/MyDrive/Colab Notebooks/Pesquisa Operacional/CSVs/E-n51-k5.csv', index_col='ID', skiprows=4)\n",
        "# header = pd.read_csv('/content/drive/MyDrive/Colab Notebooks/Pesquisa Operacional/CSVs/E-n51-k5.csv', nrows=4, header=None)\n",
        "# header_info = header.head()\n"
      ]
    },
    {
      "cell_type": "code",
      "execution_count": null,
      "metadata": {
        "colab": {
          "base_uri": "https://localhost:8080/"
        },
        "id": "RxCwzyJS7aJq",
        "outputId": "d2e4888c-bed6-4417-be2b-9b06fc6a04e9"
      },
      "outputs": [
        {
          "output_type": "execute_result",
          "data": {
            "text/plain": [
              "    x_coord  y_coord  Demand\n",
              "ID                          \n",
              "1       145      215       0\n",
              "2       151      264    1100\n",
              "3       159      261     700\n",
              "4       130      254     800\n",
              "5       128      252    1400\n",
              "6       163      247    2100\n",
              "7       146      246     400\n",
              "8       161      242     800\n",
              "9       142      239     100\n",
              "10      163      236     500\n",
              "11      148      232     600\n",
              "12      128      231    1200\n",
              "13      156      217    1300\n",
              "14      129      214    1300\n",
              "15      146      208     300\n",
              "16      164      208     900\n",
              "17      141      206    2100\n",
              "18      147      193    1000\n",
              "19      164      193     900\n",
              "20      129      189    2500\n",
              "21      155      185    1800\n",
              "22      139      182     700"
            ],
            "text/html": [
              "\n",
              "  <div id=\"df-c33a98e9-d554-4eda-a23c-06e377dcf15b\">\n",
              "    <div class=\"colab-df-container\">\n",
              "      <div>\n",
              "<style scoped>\n",
              "    .dataframe tbody tr th:only-of-type {\n",
              "        vertical-align: middle;\n",
              "    }\n",
              "\n",
              "    .dataframe tbody tr th {\n",
              "        vertical-align: top;\n",
              "    }\n",
              "\n",
              "    .dataframe thead th {\n",
              "        text-align: right;\n",
              "    }\n",
              "</style>\n",
              "<table border=\"1\" class=\"dataframe\">\n",
              "  <thead>\n",
              "    <tr style=\"text-align: right;\">\n",
              "      <th></th>\n",
              "      <th>x_coord</th>\n",
              "      <th>y_coord</th>\n",
              "      <th>Demand</th>\n",
              "    </tr>\n",
              "    <tr>\n",
              "      <th>ID</th>\n",
              "      <th></th>\n",
              "      <th></th>\n",
              "      <th></th>\n",
              "    </tr>\n",
              "  </thead>\n",
              "  <tbody>\n",
              "    <tr>\n",
              "      <th>1</th>\n",
              "      <td>145</td>\n",
              "      <td>215</td>\n",
              "      <td>0</td>\n",
              "    </tr>\n",
              "    <tr>\n",
              "      <th>2</th>\n",
              "      <td>151</td>\n",
              "      <td>264</td>\n",
              "      <td>1100</td>\n",
              "    </tr>\n",
              "    <tr>\n",
              "      <th>3</th>\n",
              "      <td>159</td>\n",
              "      <td>261</td>\n",
              "      <td>700</td>\n",
              "    </tr>\n",
              "    <tr>\n",
              "      <th>4</th>\n",
              "      <td>130</td>\n",
              "      <td>254</td>\n",
              "      <td>800</td>\n",
              "    </tr>\n",
              "    <tr>\n",
              "      <th>5</th>\n",
              "      <td>128</td>\n",
              "      <td>252</td>\n",
              "      <td>1400</td>\n",
              "    </tr>\n",
              "    <tr>\n",
              "      <th>6</th>\n",
              "      <td>163</td>\n",
              "      <td>247</td>\n",
              "      <td>2100</td>\n",
              "    </tr>\n",
              "    <tr>\n",
              "      <th>7</th>\n",
              "      <td>146</td>\n",
              "      <td>246</td>\n",
              "      <td>400</td>\n",
              "    </tr>\n",
              "    <tr>\n",
              "      <th>8</th>\n",
              "      <td>161</td>\n",
              "      <td>242</td>\n",
              "      <td>800</td>\n",
              "    </tr>\n",
              "    <tr>\n",
              "      <th>9</th>\n",
              "      <td>142</td>\n",
              "      <td>239</td>\n",
              "      <td>100</td>\n",
              "    </tr>\n",
              "    <tr>\n",
              "      <th>10</th>\n",
              "      <td>163</td>\n",
              "      <td>236</td>\n",
              "      <td>500</td>\n",
              "    </tr>\n",
              "    <tr>\n",
              "      <th>11</th>\n",
              "      <td>148</td>\n",
              "      <td>232</td>\n",
              "      <td>600</td>\n",
              "    </tr>\n",
              "    <tr>\n",
              "      <th>12</th>\n",
              "      <td>128</td>\n",
              "      <td>231</td>\n",
              "      <td>1200</td>\n",
              "    </tr>\n",
              "    <tr>\n",
              "      <th>13</th>\n",
              "      <td>156</td>\n",
              "      <td>217</td>\n",
              "      <td>1300</td>\n",
              "    </tr>\n",
              "    <tr>\n",
              "      <th>14</th>\n",
              "      <td>129</td>\n",
              "      <td>214</td>\n",
              "      <td>1300</td>\n",
              "    </tr>\n",
              "    <tr>\n",
              "      <th>15</th>\n",
              "      <td>146</td>\n",
              "      <td>208</td>\n",
              "      <td>300</td>\n",
              "    </tr>\n",
              "    <tr>\n",
              "      <th>16</th>\n",
              "      <td>164</td>\n",
              "      <td>208</td>\n",
              "      <td>900</td>\n",
              "    </tr>\n",
              "    <tr>\n",
              "      <th>17</th>\n",
              "      <td>141</td>\n",
              "      <td>206</td>\n",
              "      <td>2100</td>\n",
              "    </tr>\n",
              "    <tr>\n",
              "      <th>18</th>\n",
              "      <td>147</td>\n",
              "      <td>193</td>\n",
              "      <td>1000</td>\n",
              "    </tr>\n",
              "    <tr>\n",
              "      <th>19</th>\n",
              "      <td>164</td>\n",
              "      <td>193</td>\n",
              "      <td>900</td>\n",
              "    </tr>\n",
              "    <tr>\n",
              "      <th>20</th>\n",
              "      <td>129</td>\n",
              "      <td>189</td>\n",
              "      <td>2500</td>\n",
              "    </tr>\n",
              "    <tr>\n",
              "      <th>21</th>\n",
              "      <td>155</td>\n",
              "      <td>185</td>\n",
              "      <td>1800</td>\n",
              "    </tr>\n",
              "    <tr>\n",
              "      <th>22</th>\n",
              "      <td>139</td>\n",
              "      <td>182</td>\n",
              "      <td>700</td>\n",
              "    </tr>\n",
              "  </tbody>\n",
              "</table>\n",
              "</div>\n",
              "      <button class=\"colab-df-convert\" onclick=\"convertToInteractive('df-c33a98e9-d554-4eda-a23c-06e377dcf15b')\"\n",
              "              title=\"Convert this dataframe to an interactive table.\"\n",
              "              style=\"display:none;\">\n",
              "        \n",
              "  <svg xmlns=\"http://www.w3.org/2000/svg\" height=\"24px\"viewBox=\"0 0 24 24\"\n",
              "       width=\"24px\">\n",
              "    <path d=\"M0 0h24v24H0V0z\" fill=\"none\"/>\n",
              "    <path d=\"M18.56 5.44l.94 2.06.94-2.06 2.06-.94-2.06-.94-.94-2.06-.94 2.06-2.06.94zm-11 1L8.5 8.5l.94-2.06 2.06-.94-2.06-.94L8.5 2.5l-.94 2.06-2.06.94zm10 10l.94 2.06.94-2.06 2.06-.94-2.06-.94-.94-2.06-.94 2.06-2.06.94z\"/><path d=\"M17.41 7.96l-1.37-1.37c-.4-.4-.92-.59-1.43-.59-.52 0-1.04.2-1.43.59L10.3 9.45l-7.72 7.72c-.78.78-.78 2.05 0 2.83L4 21.41c.39.39.9.59 1.41.59.51 0 1.02-.2 1.41-.59l7.78-7.78 2.81-2.81c.8-.78.8-2.07 0-2.86zM5.41 20L4 18.59l7.72-7.72 1.47 1.35L5.41 20z\"/>\n",
              "  </svg>\n",
              "      </button>\n",
              "      \n",
              "  <style>\n",
              "    .colab-df-container {\n",
              "      display:flex;\n",
              "      flex-wrap:wrap;\n",
              "      gap: 12px;\n",
              "    }\n",
              "\n",
              "    .colab-df-convert {\n",
              "      background-color: #E8F0FE;\n",
              "      border: none;\n",
              "      border-radius: 50%;\n",
              "      cursor: pointer;\n",
              "      display: none;\n",
              "      fill: #1967D2;\n",
              "      height: 32px;\n",
              "      padding: 0 0 0 0;\n",
              "      width: 32px;\n",
              "    }\n",
              "\n",
              "    .colab-df-convert:hover {\n",
              "      background-color: #E2EBFA;\n",
              "      box-shadow: 0px 1px 2px rgba(60, 64, 67, 0.3), 0px 1px 3px 1px rgba(60, 64, 67, 0.15);\n",
              "      fill: #174EA6;\n",
              "    }\n",
              "\n",
              "    [theme=dark] .colab-df-convert {\n",
              "      background-color: #3B4455;\n",
              "      fill: #D2E3FC;\n",
              "    }\n",
              "\n",
              "    [theme=dark] .colab-df-convert:hover {\n",
              "      background-color: #434B5C;\n",
              "      box-shadow: 0px 1px 3px 1px rgba(0, 0, 0, 0.15);\n",
              "      filter: drop-shadow(0px 1px 2px rgba(0, 0, 0, 0.3));\n",
              "      fill: #FFFFFF;\n",
              "    }\n",
              "  </style>\n",
              "\n",
              "      <script>\n",
              "        const buttonEl =\n",
              "          document.querySelector('#df-c33a98e9-d554-4eda-a23c-06e377dcf15b button.colab-df-convert');\n",
              "        buttonEl.style.display =\n",
              "          google.colab.kernel.accessAllowed ? 'block' : 'none';\n",
              "\n",
              "        async function convertToInteractive(key) {\n",
              "          const element = document.querySelector('#df-c33a98e9-d554-4eda-a23c-06e377dcf15b');\n",
              "          const dataTable =\n",
              "            await google.colab.kernel.invokeFunction('convertToInteractive',\n",
              "                                                     [key], {});\n",
              "          if (!dataTable) return;\n",
              "\n",
              "          const docLinkHtml = 'Like what you see? Visit the ' +\n",
              "            '<a target=\"_blank\" href=https://colab.research.google.com/notebooks/data_table.ipynb>data table notebook</a>'\n",
              "            + ' to learn more about interactive tables.';\n",
              "          element.innerHTML = '';\n",
              "          dataTable['output_type'] = 'display_data';\n",
              "          await google.colab.output.renderOutput(dataTable, element);\n",
              "          const docLink = document.createElement('div');\n",
              "          docLink.innerHTML = docLinkHtml;\n",
              "          element.appendChild(docLink);\n",
              "        }\n",
              "      </script>\n",
              "    </div>\n",
              "  </div>\n",
              "  "
            ]
          },
          "metadata": {},
          "execution_count": 3
        }
      ],
      "source": [
        "instancia"
      ]
    },
    {
      "cell_type": "code",
      "execution_count": null,
      "metadata": {
        "colab": {
          "base_uri": "https://localhost:8080/"
        },
        "id": "19a6l4XV9UKV",
        "outputId": "a937e09b-2b33-4a82-86d2-779af9efe08c"
      },
      "outputs": [
        {
          "output_type": "stream",
          "name": "stdout",
          "text": [
            "0              K     4\n",
            "1      DIMENSION    22\n",
            "2       CAPACITY  6000\n",
            "3  OPTIMAL VALUE   375\n"
          ]
        }
      ],
      "source": [
        "header_info = header_info.drop(header_info.columns[[-2,-1]], axis=1)\n",
        "print(header_info.to_string(header=False))"
      ]
    },
    {
      "cell_type": "markdown",
      "metadata": {
        "id": "uvUxIyNW-5na"
      },
      "source": [
        "###**Imports Relativos ao Gurobi**"
      ]
    },
    {
      "cell_type": "code",
      "execution_count": null,
      "metadata": {
        "colab": {
          "base_uri": "https://localhost:8080/"
        },
        "id": "MXKh4T_l--6i",
        "outputId": "37989d31-7082-4588-ba72-0f6648e5e814"
      },
      "outputs": [
        {
          "output_type": "stream",
          "name": "stdout",
          "text": [
            "Looking in indexes: https://pypi.org/simple, https://us-python.pkg.dev/colab-wheels/public/simple/\n",
            "Collecting gurobipy\n",
            "  Downloading gurobipy-10.0.0-cp38-cp38-manylinux2014_x86_64.whl (12.8 MB)\n",
            "\u001b[2K     \u001b[90m━━━━━━━━━━━━━━━━━━━━━━━━━━━━━━━━━━━━━━━━\u001b[0m \u001b[32m12.8/12.8 MB\u001b[0m \u001b[31m67.0 MB/s\u001b[0m eta \u001b[36m0:00:00\u001b[0m\n",
            "\u001b[?25hInstalling collected packages: gurobipy\n",
            "Successfully installed gurobipy-10.0.0\n"
          ]
        }
      ],
      "source": [
        "%pip install gurobipy"
      ]
    },
    {
      "cell_type": "code",
      "execution_count": null,
      "metadata": {
        "id": "7K4e2_Lc_AfI"
      },
      "outputs": [],
      "source": [
        "import gurobipy as gp\n",
        "from gurobipy import *\n",
        "from gurobipy import GRB"
      ]
    },
    {
      "cell_type": "code",
      "execution_count": null,
      "metadata": {
        "colab": {
          "base_uri": "https://localhost:8080/"
        },
        "id": "cVf8BcaLSAzC",
        "outputId": "ecdfda05-a553-4627-b00e-cd3cf79cf4a0"
      },
      "outputs": [
        {
          "output_type": "stream",
          "name": "stdout",
          "text": [
            "Set parameter WLSAccessID\n",
            "Set parameter WLSSecret\n",
            "Set parameter LicenseID to value 923293\n",
            "Academic license - for non-commercial use only - registered to alexandre.braga@estudante.ufjf.br\n"
          ]
        },
        {
          "output_type": "execute_result",
          "data": {
            "text/plain": [
              "<gurobipy.Env, Parameter changes: WLSAccessID=(user-defined), WLSSecret=(user-defined), LicenseID=923293>"
            ]
          },
          "metadata": {},
          "execution_count": 7
        }
      ],
      "source": [
        "params = {\n",
        "\"WLSACCESSID\": 'f9f94b68-f936-49fd-9136-aebd50c3ab9e',\n",
        "\"WLSSECRET\": '4434d516-86fd-445c-a2bd-7b0014b0350d',\n",
        "\"LICENSEID\": 923293,\n",
        "}\n",
        "env = gp.Env(params=params)\n",
        "env.start() "
      ]
    },
    {
      "cell_type": "markdown",
      "metadata": {
        "id": "2vBEnS8jjd9E"
      },
      "source": [
        "###**Inicializando o Modelo**"
      ]
    },
    {
      "cell_type": "code",
      "execution_count": null,
      "metadata": {
        "cellView": "form",
        "id": "9VpvMk-mjgb6"
      },
      "outputs": [],
      "source": [
        "# @title Cria modelo vazio\n",
        "m = gp.Model(env=env)"
      ]
    },
    {
      "cell_type": "code",
      "execution_count": null,
      "metadata": {
        "cellView": "form",
        "colab": {
          "base_uri": "https://localhost:8080/"
        },
        "id": "lREjgsPRjh4V",
        "outputId": "022297fa-bae9-4f45-c30f-ec6fc32120f3"
      },
      "outputs": [
        {
          "output_type": "stream",
          "name": "stdout",
          "text": [
            "4 22 6000 375\n"
          ]
        }
      ],
      "source": [
        "# @title Pega informações do Header\n",
        "\n",
        "#Minimum Vehicles\n",
        "p = header_info[1].iloc[0]\n",
        "\n",
        "#Dimensions\n",
        "n = header_info[1].iloc[1]\n",
        "\n",
        "#Capacity\n",
        "Cmax = header_info[1].iloc[2]\n",
        "\n",
        "#Optimal Value\n",
        "optimal = header_info[1].iloc[3]\n",
        "\n",
        "print(p, n, Cmax, optimal)"
      ]
    },
    {
      "cell_type": "code",
      "execution_count": null,
      "metadata": {
        "cellView": "form",
        "colab": {
          "base_uri": "https://localhost:8080/"
        },
        "id": "H7tkCsvXjj5_",
        "outputId": "4ac36dd2-9422-477f-da6a-a467bd7f25b4"
      },
      "outputs": [
        {
          "output_type": "execute_result",
          "data": {
            "text/plain": [
              "array([   0, 1100,  700,  800, 1400, 2100,  400,  800,  100,  500,  600,\n",
              "       1200, 1300, 1300,  300,  900, 2100, 1000,  900, 2500, 1800,  700])"
            ]
          },
          "metadata": {},
          "execution_count": 10
        }
      ],
      "source": [
        "# @title Pega informações de Demanda\n",
        "d = instancia['Demand'].to_numpy()\n",
        "d"
      ]
    },
    {
      "cell_type": "markdown",
      "source": [
        "##**Criando as Variáveis Definitivas**"
      ],
      "metadata": {
        "id": "s5VokOTvGi0L"
      }
    },
    {
      "cell_type": "markdown",
      "source": [
        "Seja $G = (V,E)$ um grafo que demonstra o local e rota do cliente\n",
        "\n",
        "$V = \\{0,1,...,n\\}$ os nós desse grafo, sendo o nó $0$ o nó do deposito, e os nós de $1$ a $n$ os nós dos clientes\n",
        "\n",
        "$E$ o conjunto de arestas conectando cada nó da maneira $e_{ij} = (i,j)$\n",
        "\n",
        "Definimos:\n",
        "\n",
        "$$x_{ijk} \\in \\{0,1\\}$$ $$\\forall k \\in \\{1,...,p\\}$$ $$\\forall (i,j) \\in E$$"
      ],
      "metadata": {
        "id": "fv-fUJHVPh1G"
      }
    },
    {
      "cell_type": "markdown",
      "metadata": {
        "id": "nF-in7dqAL5v"
      },
      "source": [
        "$x_{ijk}$: Variável binária que representa a decisão se um veículo $k$ viaja de um nó $i$ para um nó $j$\n",
        "\n",
        "$y_{ik}$: Variável binária que representa se o veículo $k$ está em uso no nó $i$\n",
        "\n",
        "$u_{i}$: Variável auxiliar contínua positiva"
      ]
    },
    {
      "cell_type": "code",
      "source": [
        "# Define a variável binária x[i,j,k]\n",
        "x = {}\n",
        "for i in range(n):\n",
        "    for j in range(n):\n",
        "        for k in range(1,p+1):\n",
        "            if i!=j:\n",
        "                x[i,j,k] = m.addVar(vtype=GRB.BINARY, name=\"x_{}_{}_{}\".format(i,j,k))\n",
        "\n",
        "# Define a variável binária y[i,k]\n",
        "y = {}\n",
        "for i in range(n):\n",
        "    for k in range(1,p+1):\n",
        "        y[i,k] = m.addVar(vtype=GRB.BINARY, name=\"y_{}_{}\".format(i,k))\n",
        "\n",
        "# Define a variável contínua u[i]\n",
        "u = {}\n",
        "for i in range(n):\n",
        "    u[i] = m.addVar(vtype=GRB.CONTINUOUS, name=\"u_{}\".format(i))"
      ],
      "metadata": {
        "id": "pE4kiiBFGgeu"
      },
      "execution_count": null,
      "outputs": []
    },
    {
      "cell_type": "markdown",
      "metadata": {
        "id": "5EoHvKpmf9PK"
      },
      "source": [
        "##**Criando a Função Objetivo Definitiva**"
      ]
    },
    {
      "cell_type": "markdown",
      "source": [
        "De forma a encontrar o menor número de rotas possível, devemos assumir que existe um custo $c_{ij}$ representando o custo de ir de um cliente $i$ a um cliente $j$\n",
        "\n",
        "E buscar otimizar a seguinte função objetivo para **cada rota**:\n",
        "\n",
        "$$min\n",
        "\\sum_{j=1}^{n}\n",
        "\\sum_{i=1}^{n} c_{ij}x_{ij}$$\n",
        "\n",
        "Sendo $x_{ij}$ uma variável binária indicando se o caminho de i a j faz parte da rota\n",
        "\n",
        "______________________________"
      ],
      "metadata": {
        "id": "FEKCxPw-RAwe"
      }
    },
    {
      "cell_type": "markdown",
      "source": [
        "Como teremos um número p de rotas, podemos formular o objetivo como:\n",
        "\n",
        "\n",
        "$$min\n",
        "\\sum_{k=1}^{p}\n",
        "\\sum_{j=1}^{n}\n",
        "\\sum_{i=1}^{n} c_{ij}x_{ijk}$$\n",
        "\n",
        "Sendo $x_{ijk}$ uma variável binária indicando se o caminho de i a j faz parte da rota de um veículo k\n",
        "\n",
        "____________"
      ],
      "metadata": {
        "id": "-i2pTET-RDY8"
      }
    },
    {
      "cell_type": "markdown",
      "source": [
        "A partir dos dados das instâncias optamos por definir o custo $c_{ij}$ de ir de um cliente $i$ a um cliente $j$ como a distância dos locais dos mesmos. Pois possuímos as coordenadas $x$ e $y$ dos mesmos, e portanto, os dados permitem esse cálculo."
      ],
      "metadata": {
        "id": "HtR7yUkZRG2n"
      }
    },
    {
      "cell_type": "code",
      "execution_count": null,
      "metadata": {
        "id": "t9fhSb0GjtoZ",
        "cellView": "form"
      },
      "outputs": [],
      "source": [
        "# @title Gera as coordenadas dos Nós\n",
        "import numpy as np\n",
        "\n",
        "# Extract x and y coordinates of each node into separate arrays\n",
        "x_coords = instancia['x_coord'].to_numpy()\n",
        "y_coords = instancia['y_coord'].to_numpy()\n",
        "\n",
        "# Initialize an empty distance matrix\n",
        "c = np.zeros((n, n))"
      ]
    },
    {
      "cell_type": "code",
      "execution_count": null,
      "metadata": {
        "id": "BxhfGCISipbY",
        "cellView": "form"
      },
      "outputs": [],
      "source": [
        "# @title Cálcula Distância entre os Nós\n",
        "for i in range(n):\n",
        "    for j in range(n):\n",
        "        distance =  np.linalg.norm([x_coords[i-1]-x_coords[j-1],y_coords[i-1]-y_coords[j-1]])\n",
        "        if i == j:\n",
        "          distance = 1e9\n",
        "        c[i, j] = distance\n",
        "        c[j, i] = distance"
      ]
    },
    {
      "cell_type": "code",
      "execution_count": null,
      "metadata": {
        "id": "9BdkFfOEf_m-"
      },
      "outputs": [],
      "source": [
        "# @title Função Objetivo $$min \\sum_{k=1}^{p} \\sum_{j=1}^{n} \\sum_{i=1}^{n} c_{ij}x_{ijk}$$\n",
        "m.setObjective(gp.quicksum(c[i,j]*x[i,j,k] for i in range(n) for j in range(n) for k in range(1,p+1) if i!=j), GRB.MINIMIZE)"
      ]
    },
    {
      "cell_type": "markdown",
      "source": [
        "##**Criando as Restrições Definitivas**"
      ],
      "metadata": {
        "id": "RA_QSvcoGLLH"
      }
    },
    {
      "cell_type": "markdown",
      "source": [
        "***Restrições:***\n",
        "\n",
        "* ***1º - Fluxo Saída e Entrada:*** Garante somente 1 rota saindo de um nó $i$ para qualquer outro nó $j$ e por apenas um caminhão $k$. E garante somente 1 rota entrando em um nó $j$ de qualquer outro nó $i$ e por apenas um caminhão $k$\n",
        "\n",
        "* ***2º - Fluxo Veículos Depósito:*** Garante que para todos os veículo, cada um deles tem que sair do depósito $0$ e ir para um nó $j$ e retornar de um nó $i$ para o depósito $0$. Garantindo o fluxo no depósito.\n",
        "\n",
        "* ***3º - Capacidade Máxima de cada Veículo:*** Garante que a demanda total da rota de um veículo não ultrapasse a capacidade máxima estipulada.\n",
        "\n",
        "* ***4º - Formulação MTZ Modificada:*** Objetiva acabar com os subciclos, e funciona de forma melhor do que a anterior\n",
        "\n",
        "* ***5º - Restrição do $y_{ik}$:*** Não permite mais do que um k por i, além de forçar $y_{ik}$ e $y_{jk}$ a ser $1$ sempre que $x_{ijk}$ for"
      ],
      "metadata": {
        "id": "FHhN2qU3H_DM"
      }
    },
    {
      "cell_type": "markdown",
      "source": [
        "***Que Garantem respectivamente:***\n",
        "\n",
        "Temos:\n",
        "\n",
        "* ***Garantida pela 1º*** - 1 e somente 1 Caminhão por nó\n",
        "* ***Garantida pela 1º*** - 1 e somente 1 Rota por nó\n",
        "* ***Garantida pela 2º*** - $p$ rotas e caminhões saindo e retornando ao depósito\n",
        "* ***Garantida pela 3º*** - Nenhum veículo $k$ pegando além de sua carga máxima $C_{max}$\n",
        "* ***Garantida pela 4º*** - Não existem subciclos na solução\n",
        "* ***Garantida pela 5º*** - Nenhum veículo $k$ ativando mais de um nó $i$, e $∀ y_{ik}$ o veículo correspondente é ativado por sua rota $x_{ijk}$"
      ],
      "metadata": {
        "id": "1JiwYThAo-dd"
      }
    },
    {
      "cell_type": "code",
      "source": [
        "# @title **1º Restrição**: Inflow e Outflow dos Nós $$\\sum_{k=1}^{p} \\sum_{i=0}^{n} x_{ijk} = 1$$ $$∀ j \\in \\{1,...,n\\}$$ $$\\sum_{k=1}^{p} \\sum_{j=0}^{n} x_{ijk} = 1$$ $$∀ i \\in \\{1,...,n\\}$$\n",
        "\n",
        "for j in range(1,n):\n",
        "    m.addConstr(gp.quicksum(x[i,j,k] for i in range(n) for k in range(1,p+1) if i!=j) == 1, name=\"one_node_inflow_{}\".format(j))\n",
        "    \n",
        "for i in range(1,n):\n",
        "    m.addConstr(gp.quicksum(x[i,j,k] for j in range(n) for k in range(1,p+1) if i!=j) == 1, name=\"one_node_outflow_{}\".format(i))"
      ],
      "metadata": {
        "id": "iLgYOtzyGOYK",
        "cellView": "form"
      },
      "execution_count": null,
      "outputs": []
    },
    {
      "cell_type": "code",
      "source": [
        "# @title **2º Restrição**: Inflow e Outflow do Depósito $$\\sum_{j=1}^{n} x_{0jk} = 1$$ $$∀ k \\in \\{1,...,p\\}$$ $$\\sum_{i=1}^{n} x_{i0k} = 1$$ $$∀ k \\in \\{1,...,p\\}$$\n",
        "\n",
        "for k in range(1,p+1):\n",
        "    m.addConstr(gp.quicksum(x[i,0,k] for i in range(1,n)) == 1, name=\"one_depot_inflow_{}\".format(k))\n",
        "    m.addConstr(gp.quicksum(x[0,j,k] for j in range(1,n)) == 1, name=\"one_depot_outflow_{}\".format(k))"
      ],
      "metadata": {
        "id": "yBkotTKIJQY1",
        "cellView": "form"
      },
      "execution_count": null,
      "outputs": []
    },
    {
      "cell_type": "code",
      "source": [
        "# @title 3º Restrição: Capacidade do Veículo $$\\sum_{i=0}^{n} \\sum_{j=1}^{n} d_{j} x_{ijk} \\leq C_{max}$$ $$∀ k \\in \\{1,...,p\\}$$\n",
        "\n",
        "for k in range(1,p+1):\n",
        "    m.addConstr(gp.quicksum(d[j]*x[i,j,k] for i in range(n) for j in range(1,n) if i!=j) <= Cmax, name=\"vehicle_capacity_{}\".format(k))\n",
        "\n",
        "\n",
        "#$$\\sum_{a=0}^{n}d_{a}y_{ak} + \\sum_{j=0}^{n} d_{j} x_{ijk} \\leq C_{max} $$ $$∀ k \\in \\{1,...,p\\}$$\n",
        "# for k in range(1,p+1):\n",
        "#     for i in range(n):\n",
        "#          m.addConstr(gp.quicksum(d[a]*y[a,k] for a in range (n)) + gp.quicksum(d[j]*x[i,j,k] for j in range(1,n) if i!=j) <= Cmax , name=\"vehicle_capacity_sum_{}_{}\".format(i,k))"
      ],
      "metadata": {
        "id": "2g1Pk3q-MkGX",
        "cellView": "form"
      },
      "execution_count": null,
      "outputs": []
    },
    {
      "cell_type": "code",
      "source": [
        "# @title 4º Restrição: MTZ $$u_{i} - u_{j} + nx_{ijk} < n - 1$$ $$∀ i \\in \\{1,...,n\\}$$ $$∀ j \\in \\{1,...,n\\}$$ $$∀ k \\in \\{1,...,p\\}$$ \n",
        "for k in range(1,p+1):\n",
        "    for i in range(1,n):\n",
        "        for j in range(1,n):\n",
        "            if i!=j:\n",
        "                m.addConstr(u[i] - u[j] + n*x[i,j,k] <= n -1, name=\"MTZ_constraint_{}_{}_{}\".format(i,j,k))\n",
        "\n",
        "\n",
        "# @title 4º Restrição: MTZ Modificado https://how-to.aimms.com/Articles/332/332-Miller-Tucker-Zemlin-formulation.html $$u_{i} - u_{j} \\geq d_{j} - C_{max}(1 - x_{ijk}) $$ $$∀ i \\in \\{1,...,n\\}$$ $$∀ j \\in \\{1,...,n\\}$$ $$∀ k \\in \\{1,...,p\\}$$  $$d_{j} \\leq u_{j} \\leq C_{max}$$  $$∀ j \\in \\{1,...,n\\}$$\n",
        "# for k in range(1,p+1):\n",
        "#     for i in range(1,n):\n",
        "#         for j in range(1,n):\n",
        "#             if i!=j:\n",
        "#                 m.addConstr(u[i] - u[j] >= d[j] - Cmax*(1 - x[i,j,k]), name=\"MTZ_Alternative_constraint_{}_{}_{}\".format(i,j,k))\n",
        "\n",
        "#                 #Relaxando o modelo, retiramos as seguintes restrições:\n",
        "#                 #m.addConstr(u[j] >= d[j], name=\"MTZ_Alternative_constraint2_{}_{}_{}\".format(i,j,k))\n",
        "#                 #m.addConstr(u[j] <= Cmax, name=\"MTZ_Alternative_constraint3_{}_{}_{}\".format(i,j,k))"
      ],
      "metadata": {
        "id": "JVKQZ_Iw4KSz",
        "cellView": "form"
      },
      "execution_count": null,
      "outputs": []
    },
    {
      "cell_type": "markdown",
      "source": [
        "Como o MTZ modificado funciona:\n",
        "\n",
        "* Se um veículo $k$ vai de um nó $i$ para um nó $j$, temos $x_{ijk} = 1$ e a restrição pode ser reescrita como: $$u_{j} \\geq u_{i} + d_{j}$$  $$u_{j} - d_{j}\\geq u_{i}$$ Dessa maneira, garantimos que o valor de $u_{j}$ e maior que $u_{i}$, e além disso, pelo menos $q_{j}$ maior que o valor de $u_{i}$\n",
        "\n",
        "* Se um veículo $k$ não vai de um nó $i$ para um nó $j$, temos $x_{ijk} = 0$ e a restrição pode ser reescrita como: $$u_{j} - d_{j} \\geq u_{i} - C_{max}$$ Desse modo somado à restrição de que $$d_{j} \\leq u_{j} \\leq C_{max}$$  $$\\forall j = \\{1,...,n\\}$$ O menor valor possível para $u_{j}$ sera $d_{j}$, e o maior será $C_{max}$. Consequentemente, $$u_{j} - d_{j}$$ Será pelo menos $0$ e $$u_{i} - C_{max}$$ Será no máximo $0$, o que garantirá a desigualdade\n",
        "\n",
        "* Para conseguirmos encontrar uma solução viável para este trabalho, relaxamos a restrição $$d_{j} \\leq u_{j} \\leq C_{max}$$. O que permitiu se aproximar da função ótima"
      ],
      "metadata": {
        "id": "dyMEGc3sGx25"
      }
    },
    {
      "cell_type": "code",
      "source": [
        "# @title 5º Restrição: Restrições do $y_{ik}$ $$ \\sum_{k=1}^{p}y_{ik} \\leq 1$$ $$\\forall i = \\{1,...,n\\}$$  $$x_{ijk} \\leq My_{ik}$$ $$x_{ijk} \\leq My_{jk}$$ $$\\forall i = \\{1,...,n\\}$$ $$\\forall j = \\{1,...,n\\}$$ $$\\forall k = \\{1,...,p\\}$$\n",
        "\n",
        "#Somente um k por i\n",
        "for i in range(1,n):\n",
        "    m.addConstr(gp.quicksum(y[i,k] for k in range(1,p+1)) <= 1, name=\"y_sum_restriction_{}\".format(i))\n",
        "\n",
        "\n",
        "#Força y_{ik} e y_{jk} a ser 1 sempre que x_{ijk} for\n",
        "M = 1e9\n",
        "for k in range(1,p+1):\n",
        "    for i in range(n):\n",
        "        for j in range(n):\n",
        "            if i != j:\n",
        "                m.addConstr(x[i,j,k] <= M*y[i,k], name=\"x_{}_{}_{}_ybigM\".format(i,j,k))\n",
        "                m.addConstr(x[i,j,k] <= M*y[j,k], name=\"x_{}_{}_{}_ybigM2\".format(i,j,k))"
      ],
      "metadata": {
        "id": "acSd9yokjgGt",
        "cellView": "form"
      },
      "execution_count": null,
      "outputs": []
    },
    {
      "cell_type": "markdown",
      "metadata": {
        "id": "72j5DxZ-qtER"
      },
      "source": [
        "##**Resultados**"
      ]
    },
    {
      "cell_type": "code",
      "execution_count": null,
      "metadata": {
        "id": "52slVV9HlAA7",
        "cellView": "form"
      },
      "outputs": [],
      "source": [
        "# @title Escreve o modelo em um arquivo .lp\n",
        "m.write('PO - CVRP.lp')"
      ]
    },
    {
      "cell_type": "code",
      "execution_count": null,
      "metadata": {
        "colab": {
          "base_uri": "https://localhost:8080/"
        },
        "id": "7MxfxEAnqv9c",
        "outputId": "538da8f2-cf6e-4d28-c3c5-8a53aeaf0301",
        "cellView": "form"
      },
      "outputs": [
        {
          "output_type": "stream",
          "name": "stdout",
          "text": [
            "Set parameter TimeLimit to value 300\n",
            "Gurobi Optimizer version 10.0.0 build v10.0.0rc2 (linux64)\n",
            "\n",
            "CPU model: Intel(R) Xeon(R) CPU @ 2.20GHz, instruction set [SSE2|AVX|AVX2]\n",
            "Thread count: 1 physical cores, 2 logical processors, using up to 2 threads\n",
            "\n",
            "Academic license - for non-commercial use only - registered to alexandre.braga@estudante.ufjf.br\n",
            "Optimize a model with 5451 rows, 1958 columns and 17976 nonzeros\n",
            "Model fingerprint: 0xa79e907a\n",
            "Variable types: 22 continuous, 1936 integer (1936 binary)\n",
            "Coefficient statistics:\n",
            "  Matrix range     [1e+00, 1e+09]\n",
            "  Objective range  [3e+00, 8e+01]\n",
            "  Bounds range     [1e+00, 1e+00]\n",
            "  RHS range        [1e+00, 6e+03]\n",
            "Warning: Model contains large matrix coefficients\n",
            "         Consider reformulating model or setting NumericFocus parameter\n",
            "         to avoid numerical issues.\n",
            "Presolve removed 3549 rows and 26 columns\n",
            "Presolve time: 0.11s\n",
            "Presolved: 1902 rows, 1932 columns, 14276 nonzeros\n",
            "Variable types: 21 continuous, 1911 integer (1911 binary)\n",
            "\n",
            "Root relaxation: objective 2.961253e+02, 219 iterations, 0.01 seconds (0.00 work units)\n",
            "\n",
            "    Nodes    |    Current Node    |     Objective Bounds      |     Work\n",
            " Expl Unexpl |  Obj  Depth IntInf | Incumbent    BestBd   Gap | It/Node Time\n",
            "\n",
            "     0     0  296.12527    0   44          -  296.12527      -     -    0s\n",
            "     0     0  307.08035    0   86          -  307.08035      -     -    0s\n",
            "     0     0  311.19455    0   97          -  311.19455      -     -    0s\n",
            "     0     0  313.23008    0   90          -  313.23008      -     -    0s\n",
            "     0     0  313.23008    0   97          -  313.23008      -     -    0s\n",
            "     0     0  331.82480    0   85          -  331.82480      -     -    0s\n",
            "     0     0  331.82480    0   86          -  331.82480      -     -    0s\n",
            "     0     0  336.41018    0   83          -  336.41018      -     -    0s\n",
            "     0     0  336.41018    0   86          -  336.41018      -     -    0s\n",
            "     0     0  336.57309    0   88          -  336.57309      -     -    0s\n",
            "     0     0  336.57309    0   75          -  336.57309      -     -    0s\n",
            "     0     0  336.57309    0  106          -  336.57309      -     -    0s\n",
            "     0     0  336.57309    0  103          -  336.57309      -     -    0s\n",
            "     0     0  336.57309    0   57          -  336.57309      -     -    0s\n",
            "     0     0  336.57309    0   73          -  336.57309      -     -    0s\n",
            "     0     0  336.57309    0   69          -  336.57309      -     -    0s\n",
            "     0     0  336.57309    0   76          -  336.57309      -     -    0s\n",
            "     0     0  336.57309    0   54          -  336.57309      -     -    1s\n",
            "     0     0  336.57309    0   61          -  336.57309      -     -    1s\n",
            "     0     0  336.57309    0   66          -  336.57309      -     -    1s\n",
            "     0     0  336.57309    0   66          -  336.57309      -     -    1s\n",
            "     0     2  336.57309    0   56          -  336.57309      -     -    1s\n",
            "   347   325  609.32026  171   24          -  336.57309      -  34.3    5s\n",
            "*  366   331             185     767.9599151  336.57309  56.2%  32.9    5s\n",
            "H  367   330                     724.6761950  336.57309  53.6%  32.9    5s\n",
            "H  393   345                     680.5765211  340.35355  50.0%  32.8    6s\n",
            "H  419   364                     652.5566916  340.35355  47.8%  31.7    7s\n",
            "H  445   383                     649.8854381  340.35355  47.6%  30.6    7s\n",
            "H  471   394                     648.7247707  340.35355  47.5%  30.2    8s\n",
            "H  497   418                     642.0001027  340.35355  47.0%  29.7    8s\n",
            "   511   430  385.45148   44   66  642.00010  340.35355  47.0%  30.6   10s\n",
            "H  517   412                     616.3403114  340.35355  44.8%  30.3   11s\n",
            "H  587   432                     589.3738479  340.47733  42.2%  36.0   14s\n",
            "   588   433  474.10267   46   40  589.37385  340.47733  42.2%  36.1   15s\n",
            "H  613   421                     578.6785225  340.47733  41.2%  35.0   15s\n",
            "   826   523  562.72740   95   21  578.67852  340.47733  41.2%  31.9   20s\n",
            "H  877   507                     560.3917005  340.47733  39.2%  31.0   20s\n",
            "H 1078   557                     537.2255423  340.79135  36.6%  29.2   24s\n",
            "  1191   608  399.13028   92   74  537.22554  340.79135  36.6%  27.7   25s\n",
            "H 1245   620                     531.9056732  340.79135  35.9%  26.8   25s\n",
            "H 1975  1049                     510.8559127  343.05996  32.8%  22.3   29s\n",
            "  2216  1253  469.81697   97   77  510.85591  343.30828  32.8%  21.8   30s\n",
            "  3929  2645  485.07561   40   62  510.85591  345.85127  32.3%  19.8   35s\n",
            "H 5284  3623                     508.2621800  347.64198  31.6%  19.3   40s\n",
            "  6014  4183  364.19813   22   54  508.26218  348.69654  31.4%  19.2   45s\n",
            "  7181  5035  368.72223   37   84  508.26218  349.87187  31.2%  19.4   50s\n",
            "  8710  6188  381.86163   33   82  508.26218  350.63525  31.0%  19.7   55s\n",
            " 10203  7282  409.79766   46   66  508.26218  351.61607  30.8%  19.6   70s\n",
            " 10221  7294  489.92654   76  230  508.26218  351.61607  30.8%  19.5   75s\n",
            " 10232  7301  453.19757   50  251  508.26218  351.61607  30.8%  19.5   80s\n",
            " 10243  7309  401.31588   54  161  508.26218  351.61607  30.8%  19.5   85s\n",
            " 10264  7325  353.20502   36   40  508.26218  351.61607  30.8%  20.0   90s\n",
            " 10522  7407  452.51207   64   38  508.26218  351.61607  30.8%  20.5   95s\n",
            " 10917  7552  355.14183   38  104  508.26218  351.61607  30.8%  20.9  100s\n",
            " 11685  7850  359.53720   38   98  508.26218  351.61607  30.8%  21.7  105s\n",
            " 12536  8222  429.96066   58   60  508.26218  351.61607  30.8%  22.5  110s\n",
            " 13359  8531  415.94892   46   70  508.26218  351.61607  30.8%  23.2  115s\n",
            "H13535  8170                     493.6479788  351.61607  28.8%  23.6  117s\n",
            "H13771  7858                     486.2316549  351.61607  27.7%  23.8  119s\n",
            " 13954  7918  351.61607   34   65  486.23165  351.61607  27.7%  23.9  120s\n",
            " 15174  8416  408.02603   65   54  486.23165  351.61607  27.7%  24.6  125s\n",
            " 16169  8827  421.54535   49   45  486.23165  351.61607  27.7%  25.1  130s\n",
            " 16783  9037  399.08848   49   32  486.23165  351.61607  27.7%  25.4  135s\n",
            " 17957  9469  404.25885   69   32  486.23165  351.61607  27.7%  25.9  140s\n",
            " 19098  9928  363.75616   40   99  486.23165  351.61607  27.7%  26.3  145s\n",
            " 19669 10120  480.86151   79   38  486.23165  351.61607  27.7%  26.5  152s\n",
            " 20226 10363  466.13112   72   59  486.23165  351.61607  27.7%  26.6  155s\n",
            " 21371 10773  385.37501   48   58  486.23165  352.21885  27.6%  27.0  160s\n",
            " 22639 11273  368.90451   48   68  486.23165  352.99698  27.4%  27.5  165s\n",
            " 23741 11667  394.72934   41   69  486.23165  353.47404  27.3%  27.8  170s\n",
            " 24905 12051  371.48108   42   67  486.23165  353.79656  27.2%  28.1  175s\n",
            " 26022 12457  402.87046   64   59  486.23165  354.00479  27.2%  28.2  180s\n",
            " 26839 12769  375.36498   43   61  486.23165  354.21100  27.2%  28.3  185s\n",
            " 28034 13144  421.04696   42   97  486.23165  354.62688  27.1%  28.5  190s\n",
            " 29091 13548  369.23903   37   63  486.23165  354.90153  27.0%  28.7  195s\n",
            " 30606 14277  417.60600   67   50  486.23165  355.18218  27.0%  28.7  200s\n",
            " 31679 14941  418.47493   45   62  486.23165  355.38100  26.9%  28.8  205s\n",
            " 32939 15783  387.60996   46   56  486.23165  355.71288  26.8%  28.9  210s\n",
            " 34332 16746  390.06018   50   73  486.23165  355.93530  26.8%  29.0  215s\n",
            " 35574 17606  359.56186   39  109  486.23165  356.13388  26.8%  29.0  220s\n",
            " 36760 18384  369.58157   42   83  486.23165  356.37085  26.7%  29.1  225s\n",
            " 38147 19351  471.01250   82   58  486.23165  356.58491  26.7%  29.1  230s\n",
            " 39489 20249  368.31141   46   64  486.23165  356.80301  26.6%  29.1  235s\n",
            " 41020 21344  378.98108   53   75  486.23165  357.07767  26.6%  29.1  240s\n",
            " 42525 22330  473.98540   66   39  486.23165  357.32276  26.5%  29.1  245s\n",
            " 44097 23391  366.02223   43  120  486.23165  357.58739  26.5%  29.1  250s\n",
            " 45611 24399  434.19329   58   64  486.23165  357.83399  26.4%  29.2  255s\n",
            " 46805 25197  365.56115   41   78  486.23165  358.03097  26.4%  29.3  260s\n",
            " 48086 26017  457.33620   62   41  486.23165  358.19357  26.3%  29.3  265s\n",
            " 49399 26886  389.50316   47   71  486.23165  358.44626  26.3%  29.3  270s\n",
            " 50667 27714  421.97738   59   59  486.23165  358.62794  26.2%  29.4  275s\n",
            " 52092 28640  361.97330   39  103  486.23165  358.92085  26.2%  29.3  280s\n",
            " 53505 29591  396.83828   54   80  486.23165  359.14579  26.1%  29.4  285s\n",
            " 54832 30406  423.38345   44   87  486.23165  359.33595  26.1%  29.4  290s\n",
            " 56217 31288  377.56118   47   99  486.23165  359.50370  26.1%  29.5  295s\n",
            "\n",
            "Cutting planes:\n",
            "  Learned: 63\n",
            "  Gomory: 59\n",
            "  Cover: 278\n",
            "  Implied bound: 83\n",
            "  Clique: 4\n",
            "  MIR: 68\n",
            "  StrongCG: 13\n",
            "  Flow cover: 191\n",
            "  GUB cover: 1\n",
            "  Inf proof: 54\n",
            "  Zero half: 144\n",
            "\n",
            "Explored 57738 nodes (1707105 simplex iterations) in 300.03 seconds (231.79 work units)\n",
            "Thread count was 2 (of 2 available processors)\n",
            "\n",
            "Solution count 10: 486.232 493.648 508.262 ... 616.34\n",
            "\n",
            "Time limit reached\n",
            "Best objective 4.862316549335e+02, best bound 3.597222782686e+02, gap 26.0183%\n",
            "Sem Solução Ótima Encontrada\n",
            "Solução Viável Encontrada\n",
            "Objective value:  486.23165493347256\n",
            "Solução Limitada Encontrada\n"
          ]
        }
      ],
      "source": [
        "# @title Otimiza o Modelo\n",
        "m.setParam('TimeLimit', 5*60)\n",
        "m.optimize()\n",
        "\n",
        "#check if optimal\n",
        "if m.status == GRB.OPTIMAL:\n",
        "  print(\"Solução Ótima Encontrada\")\n",
        "else:\n",
        "  print(\"Sem Solução Ótima Encontrada\")\n",
        "\n",
        "#check if feasible\n",
        "if m.status == GRB.INFEASIBLE:\n",
        "  print(\"Sem Solução Viável Encontrada\")\n",
        "else:\n",
        "  print(\"Solução Viável Encontrada\")\n",
        "  print(\"Objective value: \",m.objVal)\n",
        "\n",
        "#check if unbounded\n",
        "if m.status == GRB.UNBOUNDED:\n",
        "  print(\"Sem Solução Limitada\")\n",
        "else: \n",
        "  print(\"Solução Limitada Encontrada\")"
      ]
    },
    {
      "cell_type": "code",
      "execution_count": null,
      "metadata": {
        "colab": {
          "base_uri": "https://localhost:8080/"
        },
        "id": "rH9AsHKPq5IK",
        "outputId": "4ee3ed9a-f302-413a-a949-6201ef639d71",
        "cellView": "form"
      },
      "outputs": [
        {
          "output_type": "stream",
          "name": "stdout",
          "text": [
            "Objective function value:  486.23165493347256\n",
            "Original optimal Objective function value:  375\n"
          ]
        }
      ],
      "source": [
        "# @title Compara o valor da Função Objetivo com a Solução Ótima proposta na instância\n",
        "print(\"Objective function value: \", m.objVal)\n",
        "print(\"Original optimal Objective function value: \", optimal)"
      ]
    },
    {
      "cell_type": "markdown",
      "metadata": {
        "id": "AjMgdCLSDFBO"
      },
      "source": [
        "###**Impressão das Variáveis**"
      ]
    },
    {
      "cell_type": "code",
      "execution_count": null,
      "metadata": {
        "colab": {
          "base_uri": "https://localhost:8080/"
        },
        "id": "PeViX9B5q67A",
        "outputId": "7b3c5fa4-0624-4e93-bece-328628c6efb6",
        "cellView": "form"
      },
      "outputs": [
        {
          "output_type": "stream",
          "name": "stdout",
          "text": [
            "x[0,9,2]: 1.0\n",
            "x[0,11,1]: 1.0\n",
            "x[0,16,3]: 1.0\n",
            "x[0,18,4]: 1.0\n",
            "x[1,17,4]: 1.0\n",
            "x[2,3,1]: 1.0\n",
            "x[3,6,1]: 1.0\n",
            "x[4,5,2]: 1.0\n",
            "x[5,12,2]: 1.0\n",
            "x[6,8,1]: 1.0\n",
            "x[7,2,1]: 1.0\n",
            "x[8,10,1]: 1.0\n",
            "x[9,4,2]: 1.0\n",
            "x[10,13,1]: 1.0\n",
            "x[11,7,1]: 1.0\n",
            "x[12,14,2]: 1.0\n",
            "x[13,0,1]: 1.0\n",
            "x[14,0,2]: 1.0\n",
            "x[15,1,4]: 1.0\n",
            "x[16,19,3]: 1.0\n",
            "x[17,20,4]: 1.0\n",
            "x[18,15,4]: 1.0\n",
            "x[19,21,3]: 1.0\n",
            "x[20,0,4]: 1.0\n",
            "x[21,0,3]: 1.0\n"
          ]
        }
      ],
      "source": [
        "# @title Imprime $x_{ijk}$\n",
        "for i in range(n):\n",
        "    for j in range(n):\n",
        "        for k in range(1,p+1):\n",
        "            if i!=j and x[i,j,k].x == 1:\n",
        "                print(\"x[{},{},{}]:\".format(i,j,k), x[i,j,k].x)"
      ]
    },
    {
      "cell_type": "markdown",
      "source": [
        "Temos que ter garantido:\n",
        "\n",
        "* 1 e somente 1 Caminhão por nó\n",
        "* 1 e somente 1 Rota por nó\n",
        "* P rotas e caminhões saindo e retornando ao depósito"
      ],
      "metadata": {
        "id": "FFy54XNplbdY"
      }
    },
    {
      "cell_type": "code",
      "source": [
        "# @title Imprime $d_{j}$\n",
        "print(\"Actual Vehicle Max Capacity:\", Cmax)\n",
        "for k in range(1,p+1):\n",
        "    print(\"Vehicle {} demands:\".format(k))\n",
        "    sum = 0\n",
        "    for j in range(n):\n",
        "        for i in range(n):\n",
        "            if i!=j and x[i,j,k].x == 1:\n",
        "                sum+= d[j]\n",
        "                print(\"d[{}]:\".format(j), d[j])\n",
        "    print(\"Total sum: \", sum)\n"
      ],
      "metadata": {
        "colab": {
          "base_uri": "https://localhost:8080/"
        },
        "id": "LEi56H2Jl5Cm",
        "outputId": "9792d32a-ab95-4a97-f32f-2018fa8b698f",
        "cellView": "form"
      },
      "execution_count": null,
      "outputs": [
        {
          "output_type": "stream",
          "name": "stdout",
          "text": [
            "Actual Vehicle Max Capacity: 6000\n",
            "Vehicle 1 demands:\n",
            "d[0]: 0\n",
            "d[2]: 700\n",
            "d[3]: 800\n",
            "d[6]: 400\n",
            "d[7]: 800\n",
            "d[8]: 100\n",
            "d[10]: 600\n",
            "d[11]: 1200\n",
            "d[13]: 1300\n",
            "Total sum:  5900\n",
            "Vehicle 2 demands:\n",
            "d[0]: 0\n",
            "d[4]: 1400\n",
            "d[5]: 2100\n",
            "d[9]: 500\n",
            "d[12]: 1300\n",
            "d[14]: 300\n",
            "Total sum:  5600\n",
            "Vehicle 3 demands:\n",
            "d[0]: 0\n",
            "d[16]: 2100\n",
            "d[19]: 2500\n",
            "d[21]: 700\n",
            "Total sum:  5300\n",
            "Vehicle 4 demands:\n",
            "d[0]: 0\n",
            "d[1]: 1100\n",
            "d[15]: 900\n",
            "d[17]: 1000\n",
            "d[18]: 900\n",
            "d[20]: 1800\n",
            "Total sum:  5700\n"
          ]
        }
      ]
    },
    {
      "cell_type": "markdown",
      "source": [
        "Temos que ter garantido:\n",
        "\n",
        "* Nenhum veículo $k$ pegando além de sua carga máxima $C_{max}$"
      ],
      "metadata": {
        "id": "5yYpGuMdBIXS"
      }
    },
    {
      "cell_type": "code",
      "source": [
        "# @title Imprime $y_{i,k}$\n",
        "for i in range(n):\n",
        "    for k in range(1,p+1):\n",
        "        if y[i,k].x > 0.5:\n",
        "            print(\"y[{},{}]:\".format(i,k), y[i,k].x)"
      ],
      "metadata": {
        "colab": {
          "base_uri": "https://localhost:8080/"
        },
        "id": "MfenCOvhl_99",
        "outputId": "9e7542f1-3ebf-4ff6-8fd7-a2179b0f9d87",
        "cellView": "form"
      },
      "execution_count": null,
      "outputs": [
        {
          "output_type": "stream",
          "name": "stdout",
          "text": [
            "y[0,1]: 1.0\n",
            "y[0,2]: 1.0\n",
            "y[0,3]: 1.0\n",
            "y[0,4]: 1.0\n",
            "y[1,4]: 1.0\n",
            "y[2,1]: 1.0\n",
            "y[3,1]: 1.0\n",
            "y[4,2]: 1.0\n",
            "y[5,2]: 1.0\n",
            "y[6,1]: 1.0\n",
            "y[7,1]: 1.0\n",
            "y[8,1]: 1.0\n",
            "y[9,2]: 1.0\n",
            "y[10,1]: 1.0\n",
            "y[11,1]: 1.0\n",
            "y[12,2]: 1.0\n",
            "y[13,1]: 1.0\n",
            "y[14,2]: 1.0\n",
            "y[15,4]: 1.0\n",
            "y[16,3]: 1.0\n",
            "y[17,4]: 1.0\n",
            "y[18,4]: 1.0\n",
            "y[19,3]: 1.0\n",
            "y[20,4]: 1.0\n",
            "y[21,3]: 1.0\n"
          ]
        }
      ]
    },
    {
      "cell_type": "markdown",
      "source": [
        "Temos que ter garantido:\n",
        "\n",
        "* Nenhum veículo $k$ acessando mais de um nó $i$"
      ],
      "metadata": {
        "id": "B5i-sbhkBKwT"
      }
    },
    {
      "cell_type": "code",
      "execution_count": null,
      "metadata": {
        "id": "ATc0VwQS8vVn",
        "colab": {
          "base_uri": "https://localhost:8080/"
        },
        "outputId": "ccaf5e74-84d7-4a4c-99b3-de74924dc906",
        "cellView": "form"
      },
      "outputs": [
        {
          "output_type": "stream",
          "name": "stdout",
          "text": [
            "u[0]: 0.0\n",
            "u[1]: 11.045454545454657\n",
            "u[2]: 1.999999999999865\n",
            "u[3]: 2.999999999999865\n",
            "u[4]: 10.045454545454657\n",
            "u[5]: 11.045454545454657\n",
            "u[6]: 3.999999999999762\n",
            "u[7]: 0.9999999999998614\n",
            "u[8]: 4.999999999999709\n",
            "u[9]: 9.045454545454657\n",
            "u[10]: 19.99999999999986\n",
            "u[11]: 0.0\n",
            "u[12]: 12.045454545454657\n",
            "u[13]: 20.99999999999986\n",
            "u[14]: 13.045454545454657\n",
            "u[15]: 10.045454545454657\n",
            "u[16]: 9.045454545454657\n",
            "u[17]: 14.045454545454657\n",
            "u[18]: 9.045454545454657\n",
            "u[19]: 10.045454545454657\n",
            "u[20]: 15.045454545454657\n",
            "u[21]: 11.045454545454657\n"
          ]
        }
      ],
      "source": [
        "# @title Imprime $u_{i}$\n",
        "for i in range(n):\n",
        "    print(\"u[{}]:\".format(i), u[i].x)"
      ]
    },
    {
      "cell_type": "markdown",
      "source": [
        "Teríamos que ter garantido caso a restrição não fosse relaxada:\n",
        "\n",
        "* Nenhum valor de $u$ menor do que as demandas possíveis, e nenhum valor de $u$ maior que a capacidade máxima"
      ],
      "metadata": {
        "id": "aiTtfu-TM6Rq"
      }
    },
    {
      "cell_type": "markdown",
      "metadata": {
        "id": "WeSpyyC1VZ47"
      },
      "source": [
        "#Visualização dos Resultados"
      ]
    },
    {
      "cell_type": "code",
      "execution_count": null,
      "metadata": {
        "colab": {
          "base_uri": "https://localhost:8080/",
          "height": 248
        },
        "id": "5IyKk9gWXk-0",
        "outputId": "fb81d3f6-70d2-4bc0-f7dc-b2472cbcbea0",
        "cellView": "form"
      },
      "outputs": [
        {
          "output_type": "display_data",
          "data": {
            "text/plain": [
              "<Figure size 432x288 with 1 Axes>"
            ],
            "image/png": "[encoded data removed]"
          },
          "metadata": {}
        }
      ],
      "source": [
        "# @title Plota as Rotas em Grafo\n",
        "import networkx as nx\n",
        "import matplotlib.pyplot as plt\n",
        "\n",
        "# Create an empty graph\n",
        "G = nx.Graph()\n",
        "\n",
        "# Add nodes to the graph\n",
        "for i in range(n):\n",
        "    G.add_node(i)\n",
        "\n",
        "# Add edges to the graph\n",
        "for k in range(1,p+1):\n",
        "  for i in range(n):\n",
        "    for j in range(n):\n",
        "      if i!=j and x[i,j,k].X > 0.9:\n",
        "        G.add_edge(i, j)\n",
        "\n",
        "# Draw the graph\n",
        "#pos = nx.shell_layout(G)\n",
        "pos = nx.spring_layout(G)\n",
        "nx.draw_networkx_nodes(G, pos, node_size=120)\n",
        "nx.draw_networkx_edges(G, pos)\n",
        "nx.draw_networkx_labels(G, pos)\n",
        "plt.show()"
      ]
    },
    {
      "cell_type": "code",
      "execution_count": null,
      "metadata": {
        "colab": {
          "base_uri": "https://localhost:8080/"
        },
        "id": "4ERBS8ESq3KO",
        "outputId": "c7548038-f6aa-4547-fcb8-1de3d1ff6c0f",
        "cellView": "form"
      },
      "outputs": [
        {
          "output_type": "stream",
          "name": "stdout",
          "text": [
            "Vehicle 1 routes:\n",
            "Route from 0 to 11\n",
            "Route from 2 to 3\n",
            "Route from 3 to 6\n",
            "Route from 6 to 8\n",
            "Route from 7 to 2\n",
            "Route from 8 to 10\n",
            "Route from 10 to 13\n",
            "Route from 11 to 7\n",
            "Route from 13 to 0\n",
            "Vehicle 2 routes:\n",
            "Route from 0 to 9\n",
            "Route from 4 to 5\n",
            "Route from 5 to 12\n",
            "Route from 9 to 4\n",
            "Route from 12 to 14\n",
            "Route from 14 to 0\n",
            "Vehicle 3 routes:\n",
            "Route from 0 to 16\n",
            "Route from 16 to 19\n",
            "Route from 19 to 21\n",
            "Route from 21 to 0\n",
            "Vehicle 4 routes:\n",
            "Route from 0 to 18\n",
            "Route from 1 to 17\n",
            "Route from 15 to 1\n",
            "Route from 17 to 20\n",
            "Route from 18 to 15\n",
            "Route from 20 to 0\n"
          ]
        }
      ],
      "source": [
        "# @title Plota as Rotas em Vetor\n",
        "for k in range(1,p+1):\n",
        "    print(\"Vehicle {} routes:\".format(k))\n",
        "    for i in range(n):\n",
        "        for j in range(n):\n",
        "            if i!=j and x[i,j,k].X == 1:\n",
        "                print(\"Route from {} to {}\".format(i,j))"
      ]
    },
    {
      "cell_type": "markdown",
      "metadata": {
        "id": "HCAvqnplXrkp"
      },
      "source": [
        "#Encerra programa"
      ]
    },
    {
      "cell_type": "code",
      "execution_count": null,
      "metadata": {
        "id": "x_68p_f9XnxS"
      },
      "outputs": [],
      "source": [
        "m.dispose()\n",
        "env.dispose()"
      ]
    }
  ],
  "metadata": {
    "colab": {
      "collapsed_sections": [
        "4M4ctBBk9np1",
        "YFmYYhjKMTHc",
        "Re62MUphMBUN",
        "i1Yi10YSfoR9",
        "eMNSP0m8QcIS",
        "eF2gHuMKQ6Ky",
        "BbjIXpMd6KBw",
        "uvUxIyNW-5na",
        "2vBEnS8jjd9E",
        "s5VokOTvGi0L",
        "5EoHvKpmf9PK",
        "HCAvqnplXrkp"
      ],
      "provenance": [],
      "include_colab_link": true
    },
    "kernelspec": {
      "display_name": "Python 3",
      "name": "python3"
    },
    "language_info": {
      "name": "python"
    }
  },
  "nbformat": 4,
  "nbformat_minor": 0
}